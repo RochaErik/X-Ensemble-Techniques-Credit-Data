{
 "cells": [
  {
   "cell_type": "markdown",
   "metadata": {},
   "source": [
    "**Ensemble Techniques**"
   ]
  },
  {
   "cell_type": "markdown",
   "metadata": {},
   "source": [
    "Building a model that predicts if someone who seeks a loan might be a defaulter or a non-defaulter. We have several independent variables like, checking account balance, credit history, purpose, loan amount etc. For more details on the dataset, please see source at https://archive.ics.uci.edu/ml/datasets/statlog+(german+credit+data)"
   ]
  },
  {
   "cell_type": "code",
   "execution_count": 1,
   "metadata": {},
   "outputs": [],
   "source": [
    "import pandas as pd\n",
    "import numpy as np\n",
    "import matplotlib.pyplot as plt\n",
    "import seaborn as sns\n",
    "from sklearn import metrics\n",
    "from sklearn.model_selection import train_test_split\n",
    "from sklearn import tree\n",
    "from sklearn.tree import DecisionTreeClassifier\n",
    "from IPython.display import Image"
   ]
  },
  {
   "cell_type": "code",
   "execution_count": 2,
   "metadata": {},
   "outputs": [
    {
     "name": "stdout",
     "output_type": "stream",
     "text": [
      "(1000, 17)\n"
     ]
    },
    {
     "data": {
      "text/html": [
       "<div>\n",
       "<style scoped>\n",
       "    .dataframe tbody tr th:only-of-type {\n",
       "        vertical-align: middle;\n",
       "    }\n",
       "\n",
       "    .dataframe tbody tr th {\n",
       "        vertical-align: top;\n",
       "    }\n",
       "\n",
       "    .dataframe thead th {\n",
       "        text-align: right;\n",
       "    }\n",
       "</style>\n",
       "<table border=\"1\" class=\"dataframe\">\n",
       "  <thead>\n",
       "    <tr style=\"text-align: right;\">\n",
       "      <th></th>\n",
       "      <th>checking_balance</th>\n",
       "      <th>months_loan_duration</th>\n",
       "      <th>credit_history</th>\n",
       "      <th>purpose</th>\n",
       "      <th>amount</th>\n",
       "      <th>savings_balance</th>\n",
       "      <th>employment_duration</th>\n",
       "      <th>percent_of_income</th>\n",
       "      <th>years_at_residence</th>\n",
       "      <th>age</th>\n",
       "      <th>other_credit</th>\n",
       "      <th>housing</th>\n",
       "      <th>existing_loans_count</th>\n",
       "      <th>job</th>\n",
       "      <th>dependents</th>\n",
       "      <th>phone</th>\n",
       "      <th>default</th>\n",
       "    </tr>\n",
       "  </thead>\n",
       "  <tbody>\n",
       "    <tr>\n",
       "      <th>0</th>\n",
       "      <td>&lt; 0 DM</td>\n",
       "      <td>6</td>\n",
       "      <td>critical</td>\n",
       "      <td>furniture/appliances</td>\n",
       "      <td>1169</td>\n",
       "      <td>unknown</td>\n",
       "      <td>&gt; 7 years</td>\n",
       "      <td>4</td>\n",
       "      <td>4</td>\n",
       "      <td>67</td>\n",
       "      <td>none</td>\n",
       "      <td>own</td>\n",
       "      <td>2</td>\n",
       "      <td>skilled</td>\n",
       "      <td>1</td>\n",
       "      <td>yes</td>\n",
       "      <td>no</td>\n",
       "    </tr>\n",
       "    <tr>\n",
       "      <th>1</th>\n",
       "      <td>1 - 200 DM</td>\n",
       "      <td>48</td>\n",
       "      <td>good</td>\n",
       "      <td>furniture/appliances</td>\n",
       "      <td>5951</td>\n",
       "      <td>&lt; 100 DM</td>\n",
       "      <td>1 - 4 years</td>\n",
       "      <td>2</td>\n",
       "      <td>2</td>\n",
       "      <td>22</td>\n",
       "      <td>none</td>\n",
       "      <td>own</td>\n",
       "      <td>1</td>\n",
       "      <td>skilled</td>\n",
       "      <td>1</td>\n",
       "      <td>no</td>\n",
       "      <td>yes</td>\n",
       "    </tr>\n",
       "    <tr>\n",
       "      <th>2</th>\n",
       "      <td>unknown</td>\n",
       "      <td>12</td>\n",
       "      <td>critical</td>\n",
       "      <td>education</td>\n",
       "      <td>2096</td>\n",
       "      <td>&lt; 100 DM</td>\n",
       "      <td>4 - 7 years</td>\n",
       "      <td>2</td>\n",
       "      <td>3</td>\n",
       "      <td>49</td>\n",
       "      <td>none</td>\n",
       "      <td>own</td>\n",
       "      <td>1</td>\n",
       "      <td>unskilled</td>\n",
       "      <td>2</td>\n",
       "      <td>no</td>\n",
       "      <td>no</td>\n",
       "    </tr>\n",
       "    <tr>\n",
       "      <th>3</th>\n",
       "      <td>&lt; 0 DM</td>\n",
       "      <td>42</td>\n",
       "      <td>good</td>\n",
       "      <td>furniture/appliances</td>\n",
       "      <td>7882</td>\n",
       "      <td>&lt; 100 DM</td>\n",
       "      <td>4 - 7 years</td>\n",
       "      <td>2</td>\n",
       "      <td>4</td>\n",
       "      <td>45</td>\n",
       "      <td>none</td>\n",
       "      <td>other</td>\n",
       "      <td>1</td>\n",
       "      <td>skilled</td>\n",
       "      <td>2</td>\n",
       "      <td>no</td>\n",
       "      <td>no</td>\n",
       "    </tr>\n",
       "    <tr>\n",
       "      <th>4</th>\n",
       "      <td>&lt; 0 DM</td>\n",
       "      <td>24</td>\n",
       "      <td>poor</td>\n",
       "      <td>car</td>\n",
       "      <td>4870</td>\n",
       "      <td>&lt; 100 DM</td>\n",
       "      <td>1 - 4 years</td>\n",
       "      <td>3</td>\n",
       "      <td>4</td>\n",
       "      <td>53</td>\n",
       "      <td>none</td>\n",
       "      <td>other</td>\n",
       "      <td>2</td>\n",
       "      <td>skilled</td>\n",
       "      <td>2</td>\n",
       "      <td>no</td>\n",
       "      <td>yes</td>\n",
       "    </tr>\n",
       "  </tbody>\n",
       "</table>\n",
       "</div>"
      ],
      "text/plain": [
       "  checking_balance  months_loan_duration credit_history               purpose  \\\n",
       "0           < 0 DM                     6       critical  furniture/appliances   \n",
       "1       1 - 200 DM                    48           good  furniture/appliances   \n",
       "2          unknown                    12       critical             education   \n",
       "3           < 0 DM                    42           good  furniture/appliances   \n",
       "4           < 0 DM                    24           poor                   car   \n",
       "\n",
       "   amount savings_balance employment_duration  percent_of_income  \\\n",
       "0    1169         unknown           > 7 years                  4   \n",
       "1    5951        < 100 DM         1 - 4 years                  2   \n",
       "2    2096        < 100 DM         4 - 7 years                  2   \n",
       "3    7882        < 100 DM         4 - 7 years                  2   \n",
       "4    4870        < 100 DM         1 - 4 years                  3   \n",
       "\n",
       "   years_at_residence  age other_credit housing  existing_loans_count  \\\n",
       "0                   4   67         none     own                     2   \n",
       "1                   2   22         none     own                     1   \n",
       "2                   3   49         none     own                     1   \n",
       "3                   4   45         none   other                     1   \n",
       "4                   4   53         none   other                     2   \n",
       "\n",
       "         job  dependents phone default  \n",
       "0    skilled           1   yes      no  \n",
       "1    skilled           1    no     yes  \n",
       "2  unskilled           2    no      no  \n",
       "3    skilled           2    no      no  \n",
       "4    skilled           2    no     yes  "
      ]
     },
     "execution_count": 2,
     "metadata": {},
     "output_type": "execute_result"
    }
   ],
   "source": [
    "df = pd.read_csv('credit.csv')\n",
    "print(df.shape)\n",
    "df.head()"
   ]
  },
  {
   "cell_type": "code",
   "execution_count": 3,
   "metadata": {},
   "outputs": [
    {
     "name": "stdout",
     "output_type": "stream",
     "text": [
      "<class 'pandas.core.frame.DataFrame'>\n",
      "RangeIndex: 1000 entries, 0 to 999\n",
      "Data columns (total 17 columns):\n",
      " #   Column                Non-Null Count  Dtype \n",
      "---  ------                --------------  ----- \n",
      " 0   checking_balance      1000 non-null   object\n",
      " 1   months_loan_duration  1000 non-null   int64 \n",
      " 2   credit_history        1000 non-null   object\n",
      " 3   purpose               1000 non-null   object\n",
      " 4   amount                1000 non-null   int64 \n",
      " 5   savings_balance       1000 non-null   object\n",
      " 6   employment_duration   1000 non-null   object\n",
      " 7   percent_of_income     1000 non-null   int64 \n",
      " 8   years_at_residence    1000 non-null   int64 \n",
      " 9   age                   1000 non-null   int64 \n",
      " 10  other_credit          1000 non-null   object\n",
      " 11  housing               1000 non-null   object\n",
      " 12  existing_loans_count  1000 non-null   int64 \n",
      " 13  job                   1000 non-null   object\n",
      " 14  dependents            1000 non-null   int64 \n",
      " 15  phone                 1000 non-null   object\n",
      " 16  default               1000 non-null   object\n",
      "dtypes: int64(7), object(10)\n",
      "memory usage: 132.9+ KB\n"
     ]
    }
   ],
   "source": [
    "df.info()"
   ]
  },
  {
   "cell_type": "code",
   "execution_count": 4,
   "metadata": {},
   "outputs": [
    {
     "data": {
      "text/plain": [
       "Index(['checking_balance', 'months_loan_duration', 'credit_history', 'purpose',\n",
       "       'amount', 'savings_balance', 'employment_duration', 'percent_of_income',\n",
       "       'years_at_residence', 'age', 'other_credit', 'housing',\n",
       "       'existing_loans_count', 'job', 'dependents', 'phone', 'default'],\n",
       "      dtype='object')"
      ]
     },
     "execution_count": 4,
     "metadata": {},
     "output_type": "execute_result"
    }
   ],
   "source": [
    "df.columns"
   ]
  },
  {
   "cell_type": "code",
   "execution_count": 5,
   "metadata": {},
   "outputs": [
    {
     "name": "stdout",
     "output_type": "stream",
     "text": [
      "<class 'pandas.core.frame.DataFrame'>\n",
      "RangeIndex: 1000 entries, 0 to 999\n",
      "Data columns (total 17 columns):\n",
      " #   Column                Non-Null Count  Dtype   \n",
      "---  ------                --------------  -----   \n",
      " 0   checking_balance      1000 non-null   category\n",
      " 1   months_loan_duration  1000 non-null   int64   \n",
      " 2   credit_history        1000 non-null   category\n",
      " 3   purpose               1000 non-null   category\n",
      " 4   amount                1000 non-null   int64   \n",
      " 5   savings_balance       1000 non-null   category\n",
      " 6   employment_duration   1000 non-null   category\n",
      " 7   percent_of_income     1000 non-null   int64   \n",
      " 8   years_at_residence    1000 non-null   int64   \n",
      " 9   age                   1000 non-null   int64   \n",
      " 10  other_credit          1000 non-null   category\n",
      " 11  housing               1000 non-null   category\n",
      " 12  existing_loans_count  1000 non-null   int64   \n",
      " 13  job                   1000 non-null   category\n",
      " 14  dependents            1000 non-null   int64   \n",
      " 15  phone                 1000 non-null   category\n",
      " 16  default               1000 non-null   category\n",
      "dtypes: category(10), int64(7)\n",
      "memory usage: 66.3 KB\n"
     ]
    }
   ],
   "source": [
    "# Converting columns with object data type to categorical\n",
    "\n",
    "for feature in df.columns:\n",
    "    if df[feature].dtype == 'object':\n",
    "        df[feature] = pd.Categorical(df[feature])\n",
    "\n",
    "df.info()"
   ]
  },
  {
   "cell_type": "code",
   "execution_count": 6,
   "metadata": {},
   "outputs": [
    {
     "name": "stdout",
     "output_type": "stream",
     "text": [
      "unknown       394\n",
      "< 0 DM        274\n",
      "1 - 200 DM    269\n",
      "> 200 DM       63\n",
      "Name: checking_balance, dtype: int64\n",
      "good         530\n",
      "critical     293\n",
      "poor          88\n",
      "very good     49\n",
      "perfect       40\n",
      "Name: credit_history, dtype: int64\n",
      "furniture/appliances    473\n",
      "car                     337\n",
      "business                 97\n",
      "education                59\n",
      "renovations              22\n",
      "car0                     12\n",
      "Name: purpose, dtype: int64\n",
      "< 100 DM         603\n",
      "unknown          183\n",
      "100 - 500 DM     103\n",
      "500 - 1000 DM     63\n",
      "> 1000 DM         48\n",
      "Name: savings_balance, dtype: int64\n",
      "1 - 4 years    339\n",
      "> 7 years      253\n",
      "4 - 7 years    174\n",
      "< 1 year       172\n",
      "unemployed      62\n",
      "Name: employment_duration, dtype: int64\n",
      "none     814\n",
      "bank     139\n",
      "store     47\n",
      "Name: other_credit, dtype: int64\n",
      "own      713\n",
      "rent     179\n",
      "other    108\n",
      "Name: housing, dtype: int64\n",
      "skilled       630\n",
      "unskilled     200\n",
      "management    148\n",
      "unemployed     22\n",
      "Name: job, dtype: int64\n",
      "no     596\n",
      "yes    404\n",
      "Name: phone, dtype: int64\n",
      "no     700\n",
      "yes    300\n",
      "Name: default, dtype: int64\n"
     ]
    }
   ],
   "source": [
    "# Checking the categorical columns\n",
    "\n",
    "print(df.checking_balance.value_counts())\n",
    "print(df.credit_history.value_counts())\n",
    "print(df.purpose.value_counts())\n",
    "print(df.savings_balance.value_counts())\n",
    "print(df.employment_duration.value_counts())\n",
    "print(df.other_credit.value_counts())\n",
    "print(df.housing.value_counts())\n",
    "print(df.job.value_counts())\n",
    "print(df.phone.value_counts())\n",
    "print(df.default.value_counts())"
   ]
  },
  {
   "cell_type": "code",
   "execution_count": 7,
   "metadata": {},
   "outputs": [],
   "source": [
    "# Categorical columns where there is some order values\n",
    "\n",
    "replaceStruct = {\n",
    "    'checking_balance': {'< 0 DM': 1, '1 - 200 DM': 2, '> 200 DM': 3, 'unknown': -1},\n",
    "    'credit_history': {'critical': 1, 'poor': 2, 'good': 3, 'very good': 4, 'perfect': 5},\n",
    "    'savings_balance': {'< 100 DM': 1, '100 - 500 DM': 2, '500 - 1000 DM': 3, '> 1000 DM': 4, 'unknown': -1},\n",
    "    'employment_duration': {'unemployed': 1, '< 1 year': 2, '1 - 4 years': 3, '4 - 7 years': 4, '> 7 years': 5},\n",
    "    'phone': {'no': 1, 'yes': 2},\n",
    "    'default': {'no': 0, 'yes': 1}\n",
    "}"
   ]
  },
  {
   "cell_type": "code",
   "execution_count": 8,
   "metadata": {},
   "outputs": [],
   "source": [
    "df=df.replace(replaceStruct)"
   ]
  },
  {
   "cell_type": "code",
   "execution_count": 9,
   "metadata": {},
   "outputs": [],
   "source": [
    "# Categorical columns where there is NOT order values\n",
    "\n",
    "other_columns = ['purpose', 'housing', 'other_credit', 'job']"
   ]
  },
  {
   "cell_type": "code",
   "execution_count": 10,
   "metadata": {},
   "outputs": [],
   "source": [
    "df = pd.get_dummies(df, columns=other_columns)"
   ]
  },
  {
   "cell_type": "code",
   "execution_count": 11,
   "metadata": {},
   "outputs": [
    {
     "data": {
      "text/html": [
       "<div>\n",
       "<style scoped>\n",
       "    .dataframe tbody tr th:only-of-type {\n",
       "        vertical-align: middle;\n",
       "    }\n",
       "\n",
       "    .dataframe tbody tr th {\n",
       "        vertical-align: top;\n",
       "    }\n",
       "\n",
       "    .dataframe thead th {\n",
       "        text-align: right;\n",
       "    }\n",
       "</style>\n",
       "<table border=\"1\" class=\"dataframe\">\n",
       "  <thead>\n",
       "    <tr style=\"text-align: right;\">\n",
       "      <th></th>\n",
       "      <th>checking_balance</th>\n",
       "      <th>months_loan_duration</th>\n",
       "      <th>credit_history</th>\n",
       "      <th>amount</th>\n",
       "      <th>savings_balance</th>\n",
       "      <th>employment_duration</th>\n",
       "      <th>percent_of_income</th>\n",
       "      <th>years_at_residence</th>\n",
       "      <th>age</th>\n",
       "      <th>existing_loans_count</th>\n",
       "      <th>...</th>\n",
       "      <th>housing_other</th>\n",
       "      <th>housing_own</th>\n",
       "      <th>housing_rent</th>\n",
       "      <th>other_credit_bank</th>\n",
       "      <th>other_credit_none</th>\n",
       "      <th>other_credit_store</th>\n",
       "      <th>job_management</th>\n",
       "      <th>job_skilled</th>\n",
       "      <th>job_unemployed</th>\n",
       "      <th>job_unskilled</th>\n",
       "    </tr>\n",
       "  </thead>\n",
       "  <tbody>\n",
       "    <tr>\n",
       "      <th>0</th>\n",
       "      <td>1</td>\n",
       "      <td>6</td>\n",
       "      <td>1</td>\n",
       "      <td>1169</td>\n",
       "      <td>-1</td>\n",
       "      <td>5</td>\n",
       "      <td>4</td>\n",
       "      <td>4</td>\n",
       "      <td>67</td>\n",
       "      <td>2</td>\n",
       "      <td>...</td>\n",
       "      <td>0</td>\n",
       "      <td>1</td>\n",
       "      <td>0</td>\n",
       "      <td>0</td>\n",
       "      <td>1</td>\n",
       "      <td>0</td>\n",
       "      <td>0</td>\n",
       "      <td>1</td>\n",
       "      <td>0</td>\n",
       "      <td>0</td>\n",
       "    </tr>\n",
       "    <tr>\n",
       "      <th>1</th>\n",
       "      <td>2</td>\n",
       "      <td>48</td>\n",
       "      <td>3</td>\n",
       "      <td>5951</td>\n",
       "      <td>1</td>\n",
       "      <td>3</td>\n",
       "      <td>2</td>\n",
       "      <td>2</td>\n",
       "      <td>22</td>\n",
       "      <td>1</td>\n",
       "      <td>...</td>\n",
       "      <td>0</td>\n",
       "      <td>1</td>\n",
       "      <td>0</td>\n",
       "      <td>0</td>\n",
       "      <td>1</td>\n",
       "      <td>0</td>\n",
       "      <td>0</td>\n",
       "      <td>1</td>\n",
       "      <td>0</td>\n",
       "      <td>0</td>\n",
       "    </tr>\n",
       "    <tr>\n",
       "      <th>2</th>\n",
       "      <td>-1</td>\n",
       "      <td>12</td>\n",
       "      <td>1</td>\n",
       "      <td>2096</td>\n",
       "      <td>1</td>\n",
       "      <td>4</td>\n",
       "      <td>2</td>\n",
       "      <td>3</td>\n",
       "      <td>49</td>\n",
       "      <td>1</td>\n",
       "      <td>...</td>\n",
       "      <td>0</td>\n",
       "      <td>1</td>\n",
       "      <td>0</td>\n",
       "      <td>0</td>\n",
       "      <td>1</td>\n",
       "      <td>0</td>\n",
       "      <td>0</td>\n",
       "      <td>0</td>\n",
       "      <td>0</td>\n",
       "      <td>1</td>\n",
       "    </tr>\n",
       "    <tr>\n",
       "      <th>3</th>\n",
       "      <td>1</td>\n",
       "      <td>42</td>\n",
       "      <td>3</td>\n",
       "      <td>7882</td>\n",
       "      <td>1</td>\n",
       "      <td>4</td>\n",
       "      <td>2</td>\n",
       "      <td>4</td>\n",
       "      <td>45</td>\n",
       "      <td>1</td>\n",
       "      <td>...</td>\n",
       "      <td>1</td>\n",
       "      <td>0</td>\n",
       "      <td>0</td>\n",
       "      <td>0</td>\n",
       "      <td>1</td>\n",
       "      <td>0</td>\n",
       "      <td>0</td>\n",
       "      <td>1</td>\n",
       "      <td>0</td>\n",
       "      <td>0</td>\n",
       "    </tr>\n",
       "    <tr>\n",
       "      <th>4</th>\n",
       "      <td>1</td>\n",
       "      <td>24</td>\n",
       "      <td>2</td>\n",
       "      <td>4870</td>\n",
       "      <td>1</td>\n",
       "      <td>3</td>\n",
       "      <td>3</td>\n",
       "      <td>4</td>\n",
       "      <td>53</td>\n",
       "      <td>2</td>\n",
       "      <td>...</td>\n",
       "      <td>1</td>\n",
       "      <td>0</td>\n",
       "      <td>0</td>\n",
       "      <td>0</td>\n",
       "      <td>1</td>\n",
       "      <td>0</td>\n",
       "      <td>0</td>\n",
       "      <td>1</td>\n",
       "      <td>0</td>\n",
       "      <td>0</td>\n",
       "    </tr>\n",
       "  </tbody>\n",
       "</table>\n",
       "<p>5 rows × 29 columns</p>\n",
       "</div>"
      ],
      "text/plain": [
       "  checking_balance  months_loan_duration credit_history  amount  \\\n",
       "0                1                     6              1    1169   \n",
       "1                2                    48              3    5951   \n",
       "2               -1                    12              1    2096   \n",
       "3                1                    42              3    7882   \n",
       "4                1                    24              2    4870   \n",
       "\n",
       "  savings_balance employment_duration  percent_of_income  years_at_residence  \\\n",
       "0              -1                   5                  4                   4   \n",
       "1               1                   3                  2                   2   \n",
       "2               1                   4                  2                   3   \n",
       "3               1                   4                  2                   4   \n",
       "4               1                   3                  3                   4   \n",
       "\n",
       "   age  existing_loans_count  ...  housing_other housing_own housing_rent  \\\n",
       "0   67                     2  ...              0           1            0   \n",
       "1   22                     1  ...              0           1            0   \n",
       "2   49                     1  ...              0           1            0   \n",
       "3   45                     1  ...              1           0            0   \n",
       "4   53                     2  ...              1           0            0   \n",
       "\n",
       "   other_credit_bank  other_credit_none  other_credit_store  job_management  \\\n",
       "0                  0                  1                   0               0   \n",
       "1                  0                  1                   0               0   \n",
       "2                  0                  1                   0               0   \n",
       "3                  0                  1                   0               0   \n",
       "4                  0                  1                   0               0   \n",
       "\n",
       "   job_skilled  job_unemployed  job_unskilled  \n",
       "0            1               0              0  \n",
       "1            1               0              0  \n",
       "2            0               0              1  \n",
       "3            1               0              0  \n",
       "4            1               0              0  \n",
       "\n",
       "[5 rows x 29 columns]"
      ]
     },
     "execution_count": 11,
     "metadata": {},
     "output_type": "execute_result"
    }
   ],
   "source": [
    "df.head()"
   ]
  },
  {
   "cell_type": "code",
   "execution_count": 12,
   "metadata": {},
   "outputs": [
    {
     "name": "stdout",
     "output_type": "stream",
     "text": [
      "<class 'pandas.core.frame.DataFrame'>\n",
      "RangeIndex: 1000 entries, 0 to 999\n",
      "Data columns (total 29 columns):\n",
      " #   Column                        Non-Null Count  Dtype\n",
      "---  ------                        --------------  -----\n",
      " 0   checking_balance              1000 non-null   int64\n",
      " 1   months_loan_duration          1000 non-null   int64\n",
      " 2   credit_history                1000 non-null   int64\n",
      " 3   amount                        1000 non-null   int64\n",
      " 4   savings_balance               1000 non-null   int64\n",
      " 5   employment_duration           1000 non-null   int64\n",
      " 6   percent_of_income             1000 non-null   int64\n",
      " 7   years_at_residence            1000 non-null   int64\n",
      " 8   age                           1000 non-null   int64\n",
      " 9   existing_loans_count          1000 non-null   int64\n",
      " 10  dependents                    1000 non-null   int64\n",
      " 11  phone                         1000 non-null   int64\n",
      " 12  default                       1000 non-null   int64\n",
      " 13  purpose_business              1000 non-null   uint8\n",
      " 14  purpose_car                   1000 non-null   uint8\n",
      " 15  purpose_car0                  1000 non-null   uint8\n",
      " 16  purpose_education             1000 non-null   uint8\n",
      " 17  purpose_furniture/appliances  1000 non-null   uint8\n",
      " 18  purpose_renovations           1000 non-null   uint8\n",
      " 19  housing_other                 1000 non-null   uint8\n",
      " 20  housing_own                   1000 non-null   uint8\n",
      " 21  housing_rent                  1000 non-null   uint8\n",
      " 22  other_credit_bank             1000 non-null   uint8\n",
      " 23  other_credit_none             1000 non-null   uint8\n",
      " 24  other_credit_store            1000 non-null   uint8\n",
      " 25  job_management                1000 non-null   uint8\n",
      " 26  job_skilled                   1000 non-null   uint8\n",
      " 27  job_unemployed                1000 non-null   uint8\n",
      " 28  job_unskilled                 1000 non-null   uint8\n",
      "dtypes: int64(13), uint8(16)\n",
      "memory usage: 117.3 KB\n"
     ]
    }
   ],
   "source": [
    "# Converting columns with categorical data type to int64 because the XGBoost algorithm isn't working with categorical values\n",
    "\n",
    "for feature in df.columns:\n",
    "    if df[feature].dtype == 'category':\n",
    "        df[feature] = df[feature].astype('int64')\n",
    "\n",
    "df.info()"
   ]
  },
  {
   "cell_type": "markdown",
   "metadata": {},
   "source": []
  },
  {
   "cell_type": "markdown",
   "metadata": {},
   "source": [
    "**Splitting the data**\n"
   ]
  },
  {
   "cell_type": "code",
   "execution_count": 13,
   "metadata": {},
   "outputs": [],
   "source": [
    "X = df.drop('default', axis=1)\n",
    "y = df['default']"
   ]
  },
  {
   "cell_type": "code",
   "execution_count": 14,
   "metadata": {},
   "outputs": [
    {
     "data": {
      "text/plain": [
       "0      0\n",
       "1      1\n",
       "2      0\n",
       "3      0\n",
       "4      1\n",
       "      ..\n",
       "995    0\n",
       "996    0\n",
       "997    0\n",
       "998    1\n",
       "999    0\n",
       "Name: default, Length: 1000, dtype: int64"
      ]
     },
     "execution_count": 14,
     "metadata": {},
     "output_type": "execute_result"
    }
   ],
   "source": [
    "y"
   ]
  },
  {
   "cell_type": "code",
   "execution_count": 15,
   "metadata": {},
   "outputs": [],
   "source": [
    "X_train, X_test, y_train, y_test = train_test_split(X, y, test_size=.3, random_state=42)"
   ]
  },
  {
   "cell_type": "markdown",
   "metadata": {},
   "source": []
  },
  {
   "cell_type": "markdown",
   "metadata": {},
   "source": [
    "**Ensemble Technique - Decision tree model**"
   ]
  },
  {
   "cell_type": "code",
   "execution_count": 16,
   "metadata": {},
   "outputs": [],
   "source": [
    "# Building our model using the DecisionTreeClassifier function. Using default 'gini' criteria to split. Other option include 'entropy'.\n",
    "\n",
    "dTree = DecisionTreeClassifier(criterion='gini', random_state=42)"
   ]
  },
  {
   "cell_type": "code",
   "execution_count": 17,
   "metadata": {},
   "outputs": [
    {
     "data": {
      "text/plain": [
       "DecisionTreeClassifier(random_state=42)"
      ]
     },
     "execution_count": 17,
     "metadata": {},
     "output_type": "execute_result"
    }
   ],
   "source": [
    "dTree.fit(X_train, y_train)"
   ]
  },
  {
   "cell_type": "code",
   "execution_count": 18,
   "metadata": {},
   "outputs": [
    {
     "name": "stdout",
     "output_type": "stream",
     "text": [
      "system command returning error: 1\n"
     ]
    }
   ],
   "source": [
    "from os import system\n",
    "\n",
    "train_char_label = ['No', 'Yes']\n",
    "Credit_Tree_File = open('credit_tree.dot','w')\n",
    "dot_data = tree.export_graphviz(dTree, out_file=Credit_Tree_File, feature_names = list(X_train), class_names = list(train_char_label))\n",
    "Credit_Tree_File.close()\n",
    "\n",
    "#Works only if \"dot\" command works on you machine\n",
    "\n",
    "retCode = system(\"dot -Tpng credit_tree.dot -o credit_tree.png\")\n",
    "if(retCode>0):\n",
    "    print(\"system command returning error: \"+str(retCode))\n",
    "else:\n",
    "    display(Image(\"credit_tree.png\"))"
   ]
  },
  {
   "cell_type": "markdown",
   "metadata": {},
   "source": [
    "To see the graph we must paste the contents of that file in the following link: http://webgraphviz.com/"
   ]
  },
  {
   "cell_type": "code",
   "execution_count": 19,
   "metadata": {},
   "outputs": [
    {
     "data": {
      "text/plain": [
       "1.0"
      ]
     },
     "execution_count": 19,
     "metadata": {},
     "output_type": "execute_result"
    }
   ],
   "source": [
    "# Probably the model is overfitting\n",
    "\n",
    "dTree.score(X_train, y_train)"
   ]
  },
  {
   "cell_type": "code",
   "execution_count": 20,
   "metadata": {},
   "outputs": [
    {
     "data": {
      "text/plain": [
       "0.6666666666666666"
      ]
     },
     "execution_count": 20,
     "metadata": {},
     "output_type": "execute_result"
    }
   ],
   "source": [
    "# The model doesn't perform so well in the test data\n",
    "\n",
    "dTree.score(X_test, y_test)"
   ]
  },
  {
   "cell_type": "markdown",
   "metadata": {},
   "source": []
  },
  {
   "cell_type": "markdown",
   "metadata": {},
   "source": [
    "**Pruning to reduce the overfitting (regularization**)"
   ]
  },
  {
   "cell_type": "code",
   "execution_count": 21,
   "metadata": {},
   "outputs": [
    {
     "data": {
      "text/plain": [
       "DecisionTreeClassifier(max_depth=3, random_state=42)"
      ]
     },
     "execution_count": 21,
     "metadata": {},
     "output_type": "execute_result"
    }
   ],
   "source": [
    "dTree2 = DecisionTreeClassifier(criterion='gini', max_depth=3, random_state=42)\n",
    "dTree2.fit(X_train, y_train)"
   ]
  },
  {
   "cell_type": "code",
   "execution_count": 22,
   "metadata": {},
   "outputs": [
    {
     "data": {
      "text/plain": [
       "0.7614285714285715"
      ]
     },
     "execution_count": 22,
     "metadata": {},
     "output_type": "execute_result"
    }
   ],
   "source": [
    "# Looks like that it is not overfitting anymore\n",
    "\n",
    "dTree2.score(X_train, y_train)"
   ]
  },
  {
   "cell_type": "code",
   "execution_count": 23,
   "metadata": {},
   "outputs": [
    {
     "data": {
      "text/plain": [
       "0.7333333333333333"
      ]
     },
     "execution_count": 23,
     "metadata": {},
     "output_type": "execute_result"
    }
   ],
   "source": [
    "# Now we have a better performance with the test sample\n",
    "\n",
    "dTree2.score(X_test, y_test)"
   ]
  },
  {
   "cell_type": "code",
   "execution_count": 24,
   "metadata": {},
   "outputs": [
    {
     "name": "stdout",
     "output_type": "stream",
     "text": [
      "system command returning error: 1\n"
     ]
    }
   ],
   "source": [
    "train_char_label = ['No', 'Yes']\n",
    "Credit_Tree_File2 = open('credit_tree2.dot','w')\n",
    "dot_data = tree.export_graphviz(dTree2, out_file=Credit_Tree_File2, feature_names = list(X_train), class_names = list(train_char_label))\n",
    "Credit_Tree_File2.close()\n",
    "\n",
    "retCode = system(\"dot -Tpng credit_tree2.dot -o credit_tree2.png\")\n",
    "if(retCode>0):\n",
    "    print(\"system command returning error: \"+str(retCode))\n",
    "else:\n",
    "    display(Image(\"credit_tree2.png\"))"
   ]
  },
  {
   "cell_type": "markdown",
   "metadata": {},
   "source": [
    "To see the graph we must paste the contents of that file in the following link: http://webgraphviz.com/"
   ]
  },
  {
   "cell_type": "code",
   "execution_count": 25,
   "metadata": {},
   "outputs": [
    {
     "name": "stdout",
     "output_type": "stream",
     "text": [
      "                              Importance\n",
      "checking_balance                0.432665\n",
      "months_loan_duration            0.167051\n",
      "credit_history                  0.139038\n",
      "employment_duration             0.100192\n",
      "other_credit_none               0.056386\n",
      "purpose_furniture/appliances    0.055003\n",
      "age                             0.049665\n",
      "job_unemployed                  0.000000\n",
      "job_skilled                     0.000000\n",
      "job_management                  0.000000\n",
      "other_credit_store              0.000000\n",
      "other_credit_bank               0.000000\n",
      "housing_rent                    0.000000\n",
      "housing_own                     0.000000\n",
      "housing_other                   0.000000\n",
      "purpose_renovations             0.000000\n",
      "purpose_car0                    0.000000\n",
      "purpose_education               0.000000\n",
      "purpose_car                     0.000000\n",
      "purpose_business                0.000000\n",
      "phone                           0.000000\n",
      "dependents                      0.000000\n",
      "existing_loans_count            0.000000\n",
      "years_at_residence              0.000000\n",
      "percent_of_income               0.000000\n",
      "savings_balance                 0.000000\n",
      "amount                          0.000000\n",
      "job_unskilled                   0.000000\n"
     ]
    }
   ],
   "source": [
    "# Looking at the importance of features in the tree building (The importance of a feature is computed as the \n",
    "#(normalized) total reduction of the criterion brought by that feature. It is also known as the Gini importance).\n",
    "\n",
    "print (pd.DataFrame(dTree2.feature_importances_, columns = [\"Importance\"], index = X_train.columns).sort_values(ascending=False, by='Importance'))"
   ]
  },
  {
   "cell_type": "code",
   "execution_count": 26,
   "metadata": {},
   "outputs": [
    {
     "data": {
      "text/plain": [
       "array([0, 0, 1, 0, 0, 0, 0, 0, 0, 0, 0, 1, 0, 1, 1, 0, 0, 0, 0, 0, 0, 0,\n",
       "       0, 0, 0, 0, 1, 1, 0, 0, 0, 0, 0, 0, 0, 0, 1, 0, 0, 1, 1, 0, 0, 0,\n",
       "       0, 0, 1, 0, 1, 0, 0, 0, 0, 1, 0, 0, 0, 0, 0, 0, 0, 1, 0, 0, 0, 0,\n",
       "       0, 0, 0, 0, 0, 0, 0, 1, 0, 0, 0, 0, 0, 0, 0, 0, 0, 0, 0, 1, 1, 1,\n",
       "       0, 0, 0, 0, 1, 0, 0, 0, 0, 0, 1, 0, 0, 0, 0, 0, 0, 0, 0, 0, 0, 0,\n",
       "       1, 0, 0, 0, 0, 0, 0, 0, 0, 0, 0, 0, 0, 0, 0, 0, 1, 0, 0, 0, 0, 0,\n",
       "       0, 0, 0, 0, 0, 0, 0, 0, 1, 0, 1, 0, 1, 1, 0, 0, 1, 0, 0, 0, 0, 0,\n",
       "       0, 0, 0, 0, 0, 0, 1, 0, 0, 1, 0, 0, 0, 0, 0, 0, 0, 0, 0, 0, 0, 0,\n",
       "       0, 0, 0, 1, 0, 0, 0, 0, 0, 0, 0, 0, 0, 0, 0, 1, 0, 0, 0, 0, 1, 0,\n",
       "       1, 0, 1, 0, 0, 0, 0, 0, 0, 0, 0, 0, 0, 1, 1, 0, 0, 0, 0, 0, 1, 0,\n",
       "       0, 0, 0, 0, 0, 0, 0, 0, 0, 0, 0, 0, 0, 0, 0, 0, 0, 0, 0, 0, 1, 0,\n",
       "       0, 0, 0, 0, 0, 0, 0, 1, 0, 0, 1, 0, 0, 0, 0, 0, 0, 0, 0, 0, 0, 0,\n",
       "       0, 0, 0, 0, 1, 0, 0, 0, 0, 0, 0, 0, 0, 0, 0, 0, 0, 0, 0, 0, 0, 0,\n",
       "       0, 0, 0, 0, 1, 0, 1, 0, 0, 0, 0, 0, 1, 0], dtype=int64)"
      ]
     },
     "execution_count": 26,
     "metadata": {},
     "output_type": "execute_result"
    }
   ],
   "source": [
    "y_predict = dTree2.predict(X_test)\n",
    "y_predict"
   ]
  },
  {
   "cell_type": "code",
   "execution_count": 27,
   "metadata": {},
   "outputs": [
    {
     "name": "stdout",
     "output_type": "stream",
     "text": [
      "0.7333333333333333\n"
     ]
    },
    {
     "data": {
      "text/plain": [
       "<AxesSubplot:>"
      ]
     },
     "execution_count": 27,
     "metadata": {},
     "output_type": "execute_result"
    },
    {
     "data": {
      "image/png": "[encoded data removed]",
      "text/plain": [
       "<Figure size 504x360 with 2 Axes>"
      ]
     },
     "metadata": {
      "needs_background": "light"
     },
     "output_type": "display_data"
    }
   ],
   "source": [
    "print(dTree2.score(X_test, y_test))\n",
    "\n",
    "cm=metrics.confusion_matrix(y_test, y_predict, labels=[0, 1])\n",
    "\n",
    "df_cm = pd.DataFrame(cm, index = [i for i in ['No','Yes']],\n",
    "                  columns = [i for i in ['Predicted No',' Predicted Yes']])\n",
    "plt.figure(figsize = (7,5))\n",
    "sns.heatmap(df_cm, annot=True ,fmt='g')"
   ]
  },
  {
   "cell_type": "markdown",
   "metadata": {},
   "source": []
  },
  {
   "cell_type": "markdown",
   "metadata": {},
   "source": [
    "**Ensemble Technique - Bagging**"
   ]
  },
  {
   "cell_type": "markdown",
   "metadata": {},
   "source": [
    "Builds on complex models and helps to avoid Overfitting. It samples the dataset to feed to each weak learner in parallel and uses voting mechanism to provide the final output."
   ]
  },
  {
   "cell_type": "code",
   "execution_count": 28,
   "metadata": {},
   "outputs": [],
   "source": [
    "# We choose the decision tree model which was overfitting (dTree) and build 50 different models (n_estimator)\n",
    "\n",
    "from sklearn.ensemble import BaggingClassifier\n",
    "\n",
    "bagging_cl = BaggingClassifier(base_estimator=dTree, n_estimators=50, random_state=42)"
   ]
  },
  {
   "cell_type": "code",
   "execution_count": 29,
   "metadata": {},
   "outputs": [],
   "source": [
    "bagging_cl = bagging_cl.fit(X_train, y_train)"
   ]
  },
  {
   "cell_type": "code",
   "execution_count": 30,
   "metadata": {},
   "outputs": [
    {
     "data": {
      "text/plain": [
       "array([0, 0, 1, 0, 0, 0, 0, 0, 0, 0, 0, 1, 0, 1, 1, 0, 0, 0, 0, 0, 0, 0,\n",
       "       0, 0, 0, 1, 1, 0, 0, 0, 0, 0, 0, 0, 0, 0, 0, 0, 0, 1, 1, 0, 0, 0,\n",
       "       0, 0, 0, 0, 0, 0, 1, 0, 0, 0, 0, 0, 0, 1, 1, 0, 0, 0, 0, 0, 1, 0,\n",
       "       0, 1, 0, 0, 0, 0, 0, 1, 0, 1, 0, 1, 0, 0, 0, 0, 0, 1, 0, 0, 1, 1,\n",
       "       0, 0, 0, 0, 1, 0, 0, 1, 0, 0, 1, 0, 0, 0, 0, 0, 0, 0, 0, 0, 0, 1,\n",
       "       1, 0, 0, 0, 0, 0, 1, 0, 0, 0, 0, 0, 0, 0, 0, 0, 0, 0, 0, 0, 0, 0,\n",
       "       0, 0, 0, 0, 0, 0, 0, 0, 1, 0, 1, 0, 0, 1, 0, 0, 0, 1, 0, 0, 0, 0,\n",
       "       0, 0, 1, 0, 0, 0, 1, 0, 0, 1, 0, 0, 0, 0, 0, 0, 0, 0, 0, 0, 0, 1,\n",
       "       0, 0, 0, 1, 0, 0, 0, 0, 0, 0, 1, 0, 0, 0, 0, 0, 0, 0, 0, 0, 1, 1,\n",
       "       1, 0, 1, 0, 0, 0, 0, 1, 0, 0, 0, 0, 0, 1, 1, 0, 0, 0, 0, 0, 0, 0,\n",
       "       0, 0, 0, 0, 1, 0, 0, 0, 0, 0, 0, 0, 1, 0, 0, 0, 0, 0, 0, 1, 1, 0,\n",
       "       0, 0, 0, 0, 0, 0, 0, 1, 0, 0, 1, 0, 0, 0, 0, 0, 0, 0, 1, 0, 0, 0,\n",
       "       0, 0, 0, 0, 0, 1, 0, 0, 0, 0, 0, 1, 0, 0, 0, 1, 0, 0, 0, 0, 0, 0,\n",
       "       1, 0, 0, 0, 0, 0, 1, 0, 0, 0, 1, 1, 1, 1], dtype=int64)"
      ]
     },
     "execution_count": 30,
     "metadata": {},
     "output_type": "execute_result"
    }
   ],
   "source": [
    "y_predict = bagging_cl.predict(X_test)\n",
    "y_predict"
   ]
  },
  {
   "cell_type": "code",
   "execution_count": 31,
   "metadata": {},
   "outputs": [
    {
     "name": "stdout",
     "output_type": "stream",
     "text": [
      "0.7366666666666667\n"
     ]
    },
    {
     "data": {
      "text/plain": [
       "<AxesSubplot:>"
      ]
     },
     "execution_count": 31,
     "metadata": {},
     "output_type": "execute_result"
    },
    {
     "data": {
      "image/png": "[encoded data removed]",
      "text/plain": [
       "<Figure size 504x360 with 2 Axes>"
      ]
     },
     "metadata": {
      "needs_background": "light"
     },
     "output_type": "display_data"
    }
   ],
   "source": [
    "print(bagging_cl.score(X_test, y_test))\n",
    "\n",
    "cm=metrics.confusion_matrix(y_test, y_predict, labels=[0, 1])\n",
    "\n",
    "df_cm = pd.DataFrame(cm, index = [i for i in ['No','Yes']],\n",
    "                  columns = [i for i in ['Predicted No',' Predicted Yes']])\n",
    "plt.figure(figsize = (7,5))\n",
    "sns.heatmap(df_cm, annot=True ,fmt='g')"
   ]
  },
  {
   "cell_type": "code",
   "execution_count": 32,
   "metadata": {},
   "outputs": [
    {
     "name": "stdout",
     "output_type": "stream",
     "text": [
      "0.7166666666666667\n"
     ]
    }
   ],
   "source": [
    "# Using bagging with a less complex model (dTree2) we have decreased the performance of the model\n",
    "\n",
    "bagging_cl2 = BaggingClassifier(base_estimator=dTree2, n_estimators=50, random_state=42)\n",
    "\n",
    "bagging_cl2.fit(X_train, y_train)\n",
    "y_predict = bagging_cl2.predict(X_test)\n",
    "\n",
    "print(bagging_cl2.score(X_test, y_test))"
   ]
  },
  {
   "cell_type": "markdown",
   "metadata": {},
   "source": []
  },
  {
   "cell_type": "markdown",
   "metadata": {},
   "source": [
    "**Ensenble technique - AdaBoost**"
   ]
  },
  {
   "cell_type": "markdown",
   "metadata": {},
   "source": [
    "Here it builds on simple models and each model builds on the errors or residuals of the previous model in sequence.\n",
    "If you try to use the complex base model ***base_estimator=dTree***, you will realise that it does quite poor, this is because the first model in the sequence does really well and the rest of the models does not really have much to do and they end up hurting the first model instead of helping. You can rather use the ***base_estimator=dTree2*** which is a simple model and you will realise some improvement. \n",
    "\n",
    "The best approach is to leave the *AdaBoost* to figure it out and start with very simple base model with a depth of **1**."
   ]
  },
  {
   "cell_type": "code",
   "execution_count": 33,
   "metadata": {},
   "outputs": [],
   "source": [
    "from sklearn.ensemble import AdaBoostClassifier\n",
    "\n",
    "adaB_cl = AdaBoostClassifier(n_estimators=50, random_state=42)"
   ]
  },
  {
   "cell_type": "code",
   "execution_count": 34,
   "metadata": {},
   "outputs": [],
   "source": [
    "adaB_cl = adaB_cl.fit(X_train,y_train)"
   ]
  },
  {
   "cell_type": "code",
   "execution_count": 35,
   "metadata": {},
   "outputs": [],
   "source": [
    "y_predict = adaB_cl.predict(X_test)"
   ]
  },
  {
   "cell_type": "code",
   "execution_count": 36,
   "metadata": {},
   "outputs": [
    {
     "data": {
      "text/plain": [
       "0.7166666666666667"
      ]
     },
     "execution_count": 36,
     "metadata": {},
     "output_type": "execute_result"
    }
   ],
   "source": [
    "adaB_cl.score(X_test, y_test)"
   ]
  },
  {
   "cell_type": "code",
   "execution_count": 37,
   "metadata": {},
   "outputs": [
    {
     "name": "stdout",
     "output_type": "stream",
     "text": [
      "0.7166666666666667\n"
     ]
    },
    {
     "data": {
      "text/plain": [
       "<AxesSubplot:>"
      ]
     },
     "execution_count": 37,
     "metadata": {},
     "output_type": "execute_result"
    },
    {
     "data": {
      "image/png": "[encoded data removed]",
      "text/plain": [
       "<Figure size 504x360 with 2 Axes>"
      ]
     },
     "metadata": {
      "needs_background": "light"
     },
     "output_type": "display_data"
    }
   ],
   "source": [
    "print(adaB_cl.score(X_test, y_test))\n",
    "\n",
    "cm=metrics.confusion_matrix(y_test, y_predict, labels=[0, 1])\n",
    "\n",
    "df_cm = pd.DataFrame(cm, index = [i for i in ['No','Yes']],\n",
    "                  columns = [i for i in ['Predicted No',' Predicted Yes']])\n",
    "plt.figure(figsize = (7,5))\n",
    "sns.heatmap(df_cm, annot=True ,fmt='g')"
   ]
  },
  {
   "cell_type": "markdown",
   "metadata": {},
   "source": []
  },
  {
   "cell_type": "markdown",
   "metadata": {},
   "source": [
    "**Ensemble Technique - Gradient Boosting**"
   ]
  },
  {
   "cell_type": "markdown",
   "metadata": {},
   "source": [
    "Gradient Boost also uses simple base leaners. The first base learner tries to predict our target **(Y)** and gives us **(y_hat)** and the next model tries to predict the difference between *Y* and *y_hat*, **(Y -- y_hat)**, which is basically the residuals. Third model tries to predict the residuals from the second model and so on..."
   ]
  },
  {
   "cell_type": "code",
   "execution_count": 38,
   "metadata": {},
   "outputs": [],
   "source": [
    "from sklearn.ensemble import GradientBoostingClassifier\n",
    "gradB_cl = GradientBoostingClassifier(n_estimators = 50,random_state=42)"
   ]
  },
  {
   "cell_type": "code",
   "execution_count": 39,
   "metadata": {},
   "outputs": [],
   "source": [
    "gradB_cl = gradB_cl.fit(X_train, y_train)"
   ]
  },
  {
   "cell_type": "code",
   "execution_count": 40,
   "metadata": {},
   "outputs": [],
   "source": [
    "y_predict = gradB_cl.predict(X_test)"
   ]
  },
  {
   "cell_type": "code",
   "execution_count": 41,
   "metadata": {},
   "outputs": [
    {
     "data": {
      "text/plain": [
       "0.7466666666666667"
      ]
     },
     "execution_count": 41,
     "metadata": {},
     "output_type": "execute_result"
    }
   ],
   "source": [
    "gradB_cl.score(X_test, y_test)"
   ]
  },
  {
   "cell_type": "code",
   "execution_count": 42,
   "metadata": {},
   "outputs": [
    {
     "name": "stdout",
     "output_type": "stream",
     "text": [
      "0.7466666666666667\n"
     ]
    },
    {
     "data": {
      "text/plain": [
       "<AxesSubplot:>"
      ]
     },
     "execution_count": 42,
     "metadata": {},
     "output_type": "execute_result"
    },
    {
     "data": {
      "image/png": "[encoded data removed]",
      "text/plain": [
       "<Figure size 504x360 with 2 Axes>"
      ]
     },
     "metadata": {
      "needs_background": "light"
     },
     "output_type": "display_data"
    }
   ],
   "source": [
    "print(gradB_cl.score(X_test, y_test))\n",
    "cm=metrics.confusion_matrix(y_test, y_predict,labels=[0, 1])\n",
    "\n",
    "df_cm = pd.DataFrame(cm, index = [i for i in [\"No\",\"Yes\"]],\n",
    "                  columns = [i for i in [\"Predicted No\",\" Predicted Yes\"]])\n",
    "plt.figure(figsize = (7,5))\n",
    "sns.heatmap(df_cm, annot=True ,fmt='g')"
   ]
  },
  {
   "cell_type": "markdown",
   "metadata": {},
   "source": []
  },
  {
   "cell_type": "markdown",
   "metadata": {},
   "source": [
    "**Ensemble technique - XGBoost**"
   ]
  },
  {
   "cell_type": "markdown",
   "metadata": {},
   "source": [
    "![image.png](data:image/png;base64,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)"
   ]
  },
  {
   "cell_type": "code",
   "execution_count": 43,
   "metadata": {},
   "outputs": [],
   "source": [
    "from xgboost import XGBClassifier\n",
    "xgb = XGBClassifier()"
   ]
  },
  {
   "cell_type": "code",
   "execution_count": 44,
   "metadata": {},
   "outputs": [],
   "source": [
    "xgb = xgb.fit(X_train, y_train)"
   ]
  },
  {
   "cell_type": "code",
   "execution_count": 45,
   "metadata": {},
   "outputs": [],
   "source": [
    "y_predict = xgb.predict(X_test)"
   ]
  },
  {
   "cell_type": "code",
   "execution_count": 46,
   "metadata": {},
   "outputs": [
    {
     "data": {
      "text/plain": [
       "0.7366666666666667"
      ]
     },
     "execution_count": 46,
     "metadata": {},
     "output_type": "execute_result"
    }
   ],
   "source": [
    "xgb.score(X_test , y_test)"
   ]
  },
  {
   "cell_type": "code",
   "execution_count": 47,
   "metadata": {},
   "outputs": [
    {
     "name": "stdout",
     "output_type": "stream",
     "text": [
      "0.7366666666666667\n"
     ]
    },
    {
     "data": {
      "text/plain": [
       "<AxesSubplot:>"
      ]
     },
     "execution_count": 47,
     "metadata": {},
     "output_type": "execute_result"
    },
    {
     "data": {
      "image/png": "[encoded data removed]",
      "text/plain": [
       "<Figure size 504x360 with 2 Axes>"
      ]
     },
     "metadata": {
      "needs_background": "light"
     },
     "output_type": "display_data"
    }
   ],
   "source": [
    "print(xgb.score(X_test , y_test))\n",
    "\n",
    "cm=metrics.confusion_matrix(y_test, y_predict,labels=[0, 1])\n",
    "\n",
    "df_cm = pd.DataFrame(cm, index = [i for i in [\"No\",\"Yes\"]],\n",
    "                  columns = [i for i in [\"Predicted No\",\" Predicted Yes\"]])\n",
    "plt.figure(figsize = (7,5))\n",
    "sns.heatmap(df_cm, annot=True ,fmt='g')"
   ]
  }
 ],
 "metadata": {
  "kernelspec": {
   "display_name": "Python 3.9.12 ('base')",
   "language": "python",
   "name": "python3"
  },
  "language_info": {
   "codemirror_mode": {
    "name": "ipython",
    "version": 3
   },
   "file_extension": ".py",
   "mimetype": "text/x-python",
   "name": "python",
   "nbconvert_exporter": "python",
   "pygments_lexer": "ipython3",
   "version": "3.9.12"
  },
  "orig_nbformat": 4,
  "vscode": {
   "interpreter": {
    "hash": "ad2bdc8ecc057115af97d19610ffacc2b4e99fae6737bb82f5d7fb13d2f2c186"
   }
  }
 },
 "nbformat": 4,
 "nbformat_minor": 2
}
